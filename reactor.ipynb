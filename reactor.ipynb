{
 "metadata": {
  "language_info": {
   "codemirror_mode": {
    "name": "ipython",
    "version": 3
   },
   "file_extension": ".py",
   "mimetype": "text/x-python",
   "name": "python",
   "nbconvert_exporter": "python",
   "pygments_lexer": "ipython3",
   "version": "3.8.8-final"
  },
  "orig_nbformat": 2,
  "kernelspec": {
   "name": "python3",
   "display_name": "Python 3",
   "language": "python"
  }
 },
 "nbformat": 4,
 "nbformat_minor": 2,
 "cells": [
  {
   "cell_type": "code",
   "execution_count": 24,
   "metadata": {},
   "outputs": [],
   "source": [
    "import cantera as ct\n",
    "import numpy as np\n",
    "import matplotlib.pyplot as plt"
   ]
  },
  {
   "cell_type": "code",
   "execution_count": 25,
   "metadata": {},
   "outputs": [],
   "source": [
    "def public_dir(iterable):\n",
    "    return [x for x in dir(iterable) if not x.startswith(\"_\")]"
   ]
  },
  {
   "cell_type": "code",
   "execution_count": 26,
   "metadata": {},
   "outputs": [],
   "source": [
    "solution = ct.Solution(\"species.yml\")\n",
    "aliases = {\"C6H11NO\": \"CHO\", \"HNO3\": \"nitric_acid\", \"H2O\": \"water\", \"C6H10O\": \"CH\"}\n",
    "for name, alias in aliases.items():\n",
    "    solution.add_species_alias(name, alias)"
   ]
  },
  {
   "cell_type": "code",
   "execution_count": 27,
   "metadata": {},
   "outputs": [],
   "source": [
    "solution.TPX = 1000, ct.one_atm, {\"CHO\": 1, \"nitric_acid\": 3, \"water\": 1}\n",
    "solution.equilibrate(\"TP\")"
   ]
  },
  {
   "cell_type": "code",
   "execution_count": 28,
   "metadata": {},
   "outputs": [],
   "source": [
    "inlet = ct.Reservoir(solution)\n",
    "outlet = ct.Reservoir(solution)\n",
    "cstr = ct.IdealGasConstPressureReactor(solution, volume=1000)\n",
    "flow_controller = ct.MassFlowController(inlet, cstr, mdot=1)\n",
    "sim = ct.ReactorNet([cstr])\n",
    "sim.verbose = True"
   ]
  },
  {
   "cell_type": "code",
   "execution_count": 29,
   "metadata": {},
   "outputs": [],
   "source": [
    "states = ct.SolutionArray(solution)"
   ]
  },
  {
   "cell_type": "code",
   "execution_count": 30,
   "metadata": {},
   "outputs": [
    {
     "output_type": "stream",
     "name": "stdout",
     "text": [
      "Initializing reactor network.\nReactor 0: 7 variables.\n              0 sensitivity params.\nNumber of equations: 7\nMaximum time step:                0\n\n***********************************************************************\nCanteraError thrown by checkFinite:\nydot contains non-finite elements:\n\nydot[1] = -nan\nydot[2] = -inf\nydot[3] = inf\nydot[4] = inf\nydot[5] = inf\nydot[6] = -inf\n***********************************************************************\n\n***********************************************************************\nCanteraError thrown by checkFinite:\nydot contains non-finite elements:\n\nydot[1] = -nan\nydot[2] = -inf\nydot[3] = inf\nydot[4] = inf\nydot[5] = inf\nydot[6] = -inf\n***********************************************************************\n\n***********************************************************************\nCanteraError thrown by checkFinite:\nydot contains non-finite elements:\n\nydot[1] = -nan\nydot[2] = -inf\nydot[3] = inf\nydot[4] = inf\nydot[5] = inf\nydot[6] = -inf\n***********************************************************************\n\n***********************************************************************\nCanteraError thrown by checkFinite:\nydot contains non-finite elements:\n\nydot[1] = -nan\nydot[2] = -inf\nydot[3] = inf\nydot[4] = inf\nydot[5] = inf\nydot[6] = -inf\n***********************************************************************\n\n***********************************************************************\nCanteraError thrown by checkFinite:\nydot contains non-finite elements:\n\nydot[1] = -nan\nydot[2] = -inf\nydot[3] = inf\nydot[4] = inf\nydot[5] = inf\nydot[6] = -inf\n***********************************************************************\n\n***********************************************************************\nCanteraError thrown by checkFinite:\nydot contains non-finite elements:\n\nydot[1] = -nan\nydot[2] = -inf\nydot[3] = inf\nydot[4] = inf\nydot[5] = inf\nydot[6] = -inf\n***********************************************************************\n\n***********************************************************************\nCanteraError thrown by checkFinite:\nydot contains non-finite elements:\n\nydot[1] = -nan\nydot[2] = -inf\nydot[3] = inf\nydot[4] = inf\nydot[5] = inf\nydot[6] = -inf\n***********************************************************************\n\n***********************************************************************\nCanteraError thrown by checkFinite:\nydot contains non-finite elements:\n\nydot[1] = -nan\nydot[2] = -inf\nydot[3] = inf\nydot[4] = inf\nydot[5] = inf\nydot[6] = -inf\n***********************************************************************\n"
     ]
    },
    {
     "output_type": "error",
     "ename": "NameError",
     "evalue": "name 'reactor' is not defined",
     "traceback": [
      "\u001b[0;31m---------------------------------------------------------------------------\u001b[0m",
      "\u001b[0;31mNameError\u001b[0m                                 Traceback (most recent call last)",
      "\u001b[0;32m<ipython-input-30-8f5b36049da0>\u001b[0m in \u001b[0;36m<module>\u001b[0;34m\u001b[0m\n\u001b[1;32m      1\u001b[0m \u001b[0msim\u001b[0m\u001b[0;34m.\u001b[0m\u001b[0madvance_to_steady_state\u001b[0m\u001b[0;34m(\u001b[0m\u001b[0;34m)\u001b[0m\u001b[0;34m\u001b[0m\u001b[0;34m\u001b[0m\u001b[0m\n\u001b[0;32m----> 2\u001b[0;31m \u001b[0mstates\u001b[0m\u001b[0;34m.\u001b[0m\u001b[0mappend\u001b[0m\u001b[0;34m(\u001b[0m\u001b[0mreactor\u001b[0m\u001b[0;34m.\u001b[0m\u001b[0mthermo\u001b[0m\u001b[0;34m.\u001b[0m\u001b[0mstate\u001b[0m\u001b[0;34m)\u001b[0m\u001b[0;34m\u001b[0m\u001b[0;34m\u001b[0m\u001b[0m\n\u001b[0m",
      "\u001b[0;31mNameError\u001b[0m: name 'reactor' is not defined"
     ]
    }
   ],
   "source": [
    "sim.advance_to_steady_state()\n",
    "states.append(reactor.thermo.state)"
   ]
  },
  {
   "cell_type": "code",
   "execution_count": 22,
   "metadata": {},
   "outputs": [
    {
     "output_type": "error",
     "ename": "IndexError",
     "evalue": "index 0 is out of bounds for axis 0 with size 0",
     "traceback": [
      "\u001b[0;31m---------------------------------------------------------------------------\u001b[0m",
      "\u001b[0;31mIndexError\u001b[0m                                Traceback (most recent call last)",
      "\u001b[0;32m<ipython-input-22-1460015b9841>\u001b[0m in \u001b[0;36m<module>\u001b[0;34m\u001b[0m\n\u001b[0;32m----> 1\u001b[0;31m \u001b[0mplt\u001b[0m\u001b[0;34m.\u001b[0m\u001b[0mbar\u001b[0m\u001b[0;34m(\u001b[0m\u001b[0mstates\u001b[0m\u001b[0;34m.\u001b[0m\u001b[0mspecies_names\u001b[0m\u001b[0;34m,\u001b[0m \u001b[0mstates\u001b[0m\u001b[0;34m.\u001b[0m\u001b[0mconcentrations\u001b[0m\u001b[0;34m[\u001b[0m\u001b[0;36m0\u001b[0m\u001b[0;34m]\u001b[0m\u001b[0;34m)\u001b[0m\u001b[0;34m\u001b[0m\u001b[0;34m\u001b[0m\u001b[0m\n\u001b[0m",
      "\u001b[0;31mIndexError\u001b[0m: index 0 is out of bounds for axis 0 with size 0"
     ]
    }
   ],
   "source": [
    "plt.bar(states.species_names, states.concentrations[0])"
   ]
  }
 ]
}